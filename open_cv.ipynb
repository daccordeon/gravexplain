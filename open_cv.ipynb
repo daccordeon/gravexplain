{
 "cells": [
  {
   "cell_type": "code",
   "execution_count": null,
   "metadata": {},
   "outputs": [],
   "source": [
    "#!/usr/bin/env python3\n",
    "\"\"\"\n",
    "James Gardner 2019\n",
    "\n",
    "\"It is important to note that OpenCV reads colors as BGR (Blue Green Red),\n",
    "where most computer applications read as RGB (Red Green Blue).\n",
    "Remember this!\"\n",
    "\"\"\"\n",
    "\n",
    "import cv2\n",
    "import numpy as np\n",
    "import matplotlib.pyplot as plt\n",
    "from tqdm import tqdm_notebook as tqdm"
   ]
  },
  {
   "cell_type": "code",
   "execution_count": null,
   "metadata": {},
   "outputs": [],
   "source": [
    "def zoom(frame,r=0.5):\n",
    "    rheight = int(frame.shape[0]*r)\n",
    "    rwidth  = int(frame.shape[1]*r)\n",
    "    # caution: order of width, height in resize call\n",
    "    return cv2.resize(frame,(rwidth,rheight))"
   ]
  },
  {
   "cell_type": "code",
   "execution_count": null,
   "metadata": {},
   "outputs": [],
   "source": []
  },
  {
   "cell_type": "code",
   "execution_count": null,
   "metadata": {},
   "outputs": [],
   "source": [
    "cap = cv2.VideoCapture('tracking_test.mp4')\n",
    "total_frames = int(cap.get(cv2.CAP_PROP_FRAME_COUNT))\n",
    "frame_count = 0\n",
    "pbar = tqdm(total=total_frames)\n",
    "\n",
    "ret, frame = cap.read()\n",
    "\n",
    "while ret:\n",
    "    cv2.imshow('a',zoom(frame[:,:,1]))\n",
    "\n",
    "    # show frame for 30 ms \n",
    "    # 0xFF necessary on 64-bit to truncate waitKey, & is bit-wise\n",
    "    if cv2.waitKey(30) & 0xFF == ord('q'):\n",
    "        break    \n",
    "    \n",
    "    ret, frame = cap.read()\n",
    "    frame_count += 1\n",
    "    pbar.update(1)\n",
    "\n",
    "cv2.destroyAllWindows()\n",
    "pbar.close()\n",
    "cap.release()"
   ]
  },
  {
   "cell_type": "code",
   "execution_count": null,
   "metadata": {},
   "outputs": [],
   "source": [
    "# openCV image tracking tutorial\n",
    "# https://opencv-python-tutroals.readthedocs.io/en/latest/\n",
    "# py_tutorials/py_video/py_lucas_kanade/py_lucas_kanade.html\n",
    "# https://stackoverqflow.com/questions/43063320/cv2-calcopticalflowpyrlk-adding-new-points\n",
    "\n",
    "cap = cv2.VideoCapture('tracking_test.mp4')\n",
    "total_frames = int(cap.get(cv2.CAP_PROP_FRAME_COUNT))\n",
    "frame_count = 0\n",
    "pbar = tqdm(total=total_frames)\n",
    "\n",
    "# params for ShiTomasi corner detection,\n",
    "feature_params = dict( maxCorners = 100,\n",
    "                       qualityLevel = 0.3,\n",
    "                       minDistance = 7,\n",
    "                       blockSize = 7 )\n",
    "\n",
    "# Parameters for lucas kanade optical flow\n",
    "lk_params = dict( winSize  = (15,15),\n",
    "                  maxLevel = 2,\n",
    "                  criteria = (cv2.TERM_CRITERIA_EPS | cv2.TERM_CRITERIA_COUNT, 10, 0.03))\n",
    "\n",
    "# Create some random colors\n",
    "color = np.random.randint(0,255,(100,3))\n",
    "\n",
    "# Take first frame and find corners in it\n",
    "ret, old_frame = cap.read()\n",
    "old_gray = cv2.cvtColor(old_frame, cv2.COLOR_BGR2GRAY)\n",
    "# p0 = cv2.goodFeaturesToTrack(old_gray, mask = None, **feature_params)\n",
    "fav_p = []\n",
    "p0 = np.array([[1093,548],[1226,544],[1344,547],[1439,553]],np.float32)\n",
    "# print(p0)\n",
    "# 427 175 , 401 187\n",
    "# p0 = np.array([[[427,175]],[[401,187]]])\n",
    "\n",
    "# Create a mask image for drawing purposes\n",
    "mask = np.zeros_like(old_frame)\n",
    "ret,frame = cap.read()\n",
    "\n",
    "after_first = False\n",
    "\n",
    "while ret:\n",
    "    frame_gray = cv2.cvtColor(frame, cv2.COLOR_BGR2GRAY)\n",
    "        \n",
    "    # calculate optical flow\n",
    "    p1, st, err = cv2.calcOpticalFlowPyrLK(old_gray, frame_gray, p0, None, **lk_params)\n",
    "\n",
    "    # Select good points\n",
    "    #print(p1,p0,st,err)\n",
    "    good_new = p1#[st==1]\n",
    "    good_old = p0#[st==1]\n",
    "\n",
    "    # draw the tracks\n",
    "    for i,(new,old) in enumerate(zip(good_new,good_old)):\n",
    "        a,b = new.ravel()\n",
    "        c,d = old.ravel()\n",
    "        mask = cv2.line(mask, (a,b),(c,d), color[i].tolist(), 2)\n",
    "        frame = cv2.circle(frame,(a,b),5,color[i].tolist(),-1)\n",
    "    img = cv2.add(frame,mask)\n",
    "\n",
    "    #cv2.imshow('frame',zoom(img))\n",
    "    #if cv2.waitKey(30) & 0xff == ord('q'):\n",
    "    #    break\n",
    "\n",
    "    # Now update the previous frame and previous points\n",
    "    old_gray = frame_gray.copy()\n",
    "    p0 = good_new.reshape(-1,1,2)\n",
    "    frame_count += 1\n",
    "    pbar.update(1)\n",
    "    \n",
    "    if after_first:\n",
    "        fav_p.append([p[0][0] for p in p1])    \n",
    "    else:\n",
    "        after_first = True\n",
    "    \n",
    "    ret,frame = cap.read()\n",
    "\n",
    "fav_p = np.array(fav_p)\n",
    "pbar.close()    \n",
    "cv2.destroyAllWindows()\n",
    "cap.release()"
   ]
  },
  {
   "cell_type": "code",
   "execution_count": null,
   "metadata": {},
   "outputs": [],
   "source": []
  },
  {
   "cell_type": "code",
   "execution_count": null,
   "metadata": {},
   "outputs": [],
   "source": [
    "plt.figure(figsize=(7,14))\n",
    "plt.imshow(old_frame)#, cmap = 'gray', interpolation = 'bicubic')\n",
    "# plt.xticks([]), plt.yticks([])  # to hide tick values on X and Y axis\n",
    "plt.plot(1200,600,'w.')\n",
    "plt.show()\n"
   ]
  },
  {
   "cell_type": "code",
   "execution_count": null,
   "metadata": {},
   "outputs": [],
   "source": [
    "p1,p1.shape"
   ]
  },
  {
   "cell_type": "code",
   "execution_count": null,
   "metadata": {},
   "outputs": [],
   "source": [
    "lyst = []\n",
    "for p in p1:\n",
    "    lyst.append(p[0][0])"
   ]
  },
  {
   "cell_type": "code",
   "execution_count": null,
   "metadata": {},
   "outputs": [],
   "source": []
  },
  {
   "cell_type": "code",
   "execution_count": null,
   "metadata": {},
   "outputs": [],
   "source": [
    "# img = cv2.imread()\n",
    "cap = cv2.VideoCapture('tracking_test.mp4')\n",
    "ret, frame = cap.read()\n",
    "g_frame = frame[:,:,1]\n",
    "# print(g_frame.shape)\n",
    "\n",
    "# cv2.namedWindow('a',cv2.WINDOW_NORMAL)\n",
    "# cv2.namedWindow('a',cv2.WINDOW_AUTOSIZE) \n",
    "cv2.imshow('a',zoom(g_frame))\n",
    "cv2.waitKey(0)\n",
    "cv2.destroyAllWindows()\n",
    "cap.release()"
   ]
  },
  {
   "cell_type": "code",
   "execution_count": null,
   "metadata": {},
   "outputs": [],
   "source": []
  },
  {
   "cell_type": "code",
   "execution_count": null,
   "metadata": {},
   "outputs": [],
   "source": []
  },
  {
   "cell_type": "code",
   "execution_count": null,
   "metadata": {},
   "outputs": [],
   "source": []
  },
  {
   "cell_type": "code",
   "execution_count": null,
   "metadata": {},
   "outputs": [],
   "source": []
  },
  {
   "cell_type": "code",
   "execution_count": null,
   "metadata": {},
   "outputs": [],
   "source": [
    "cap = cv2.VideoCapture('tracking_test.mp4')\n",
    "# ret is 'did it successfully return another frame?'\n",
    "\n",
    "while True:\n",
    "    if cv2.waitKey(1) == ord('q'):\n",
    "        break\n",
    "    \n",
    "    ret, frame = cap.read()\n",
    "    \n",
    "    try:\n",
    "        grey = cv2.cvtColor(frame, cv2.COLOR_BGR2GRAY)\n",
    "        cv2.imshow('frame',frame)\n",
    "        cv2.imshow('greyframe',grey)\n",
    "    except:\n",
    "        cap.release()\n",
    "        cv2.destroyAllWindows()        \n",
    "        break    \n",
    "\n",
    "cap.release()\n",
    "cv2.destroyAllWindows()"
   ]
  },
  {
   "cell_type": "code",
   "execution_count": null,
   "metadata": {},
   "outputs": [],
   "source": [
    "img = cv2.imread('bgr_tester.jpeg')\n",
    "\n",
    "b_channel = img[:,:,0]\n",
    "g_channel = img[:,:,1]\n",
    "r_channel = img[:,:,2]\n",
    "\n",
    "cv2.imshow('b',b_channel)\n",
    "cv2.imshow('g',g_channel)\n",
    "cv2.imshow('r',r_channel)\n",
    "# waitKey argument is the number of milliseconds it waits for\n",
    "if cv2.waitKey(0) == ord('q'):\n",
    "    # cv2.waitKey(0)\n",
    "    cv2.destroyAllWindows()"
   ]
  },
  {
   "cell_type": "code",
   "execution_count": null,
   "metadata": {},
   "outputs": [],
   "source": []
  },
  {
   "cell_type": "code",
   "execution_count": null,
   "metadata": {},
   "outputs": [],
   "source": [
    "# frame splitter!\n",
    "cap = cv2.VideoCapture('tracking_test.mp4')\n",
    "total_frames = int(cap.get(cv2.CAP_PROP_FRAME_COUNT))\n",
    "frame_count = 0\n",
    "pbar = tqdm(total=total_frames)\n",
    "\n",
    "ret = True\n",
    "while ret:    \n",
    "    ret, frame = cap.read()\n",
    "    if not ret:\n",
    "        break\n",
    "        \n",
    "    #cv2.imwrite('./plots/tracking_test_{:03d}.jpeg'.format(frame_count),frame)\n",
    "    \n",
    "    frame_count += 1\n",
    "    pbar.update(1)\n",
    "    \n",
    "pbar.close()\n",
    "cap.release()\n",
    "cv2.destroyAllWindows()"
   ]
  },
  {
   "cell_type": "code",
   "execution_count": null,
   "metadata": {},
   "outputs": [],
   "source": []
  },
  {
   "cell_type": "code",
   "execution_count": null,
   "metadata": {},
   "outputs": [],
   "source": []
  },
  {
   "cell_type": "code",
   "execution_count": null,
   "metadata": {},
   "outputs": [],
   "source": []
  },
  {
   "cell_type": "code",
   "execution_count": null,
   "metadata": {},
   "outputs": [],
   "source": [
    "# img = cv2.imread('squid.jpg')#,cv2.IMREAD_GRAYSCALE)\n",
    "# print(img.shape)\n",
    "# face = img[50:250,150:350]\n",
    "# img[400:600,200:400] = face\n",
    "\n",
    "# plt.figure(figsize=(7,14))\n",
    "# plt.imshow(img)#, cmap = 'gray', interpolation = 'bicubic')\n",
    "# # plt.xticks([]), plt.yticks([])  # to hide tick values on X and Y axis\n",
    "# plt.plot([200,300,400],[100,200,300],'c', linewidth=5)\n",
    "# plt.show()\n",
    "\n",
    "# # cv2.imwrite('watchgray.png',img)"
   ]
  },
  {
   "cell_type": "code",
   "execution_count": null,
   "metadata": {},
   "outputs": [],
   "source": []
  }
 ],
 "metadata": {
  "kernelspec": {
   "display_name": "Python 3",
   "language": "python",
   "name": "python3"
  },
  "language_info": {
   "codemirror_mode": {
    "name": "ipython",
    "version": 3
   },
   "file_extension": ".py",
   "mimetype": "text/x-python",
   "name": "python",
   "nbconvert_exporter": "python",
   "pygments_lexer": "ipython3",
   "version": "3.6.8"
  }
 },
 "nbformat": 4,
 "nbformat_minor": 2
}

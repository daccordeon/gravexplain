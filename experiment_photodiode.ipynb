{
 "cells": [
  {
   "cell_type": "code",
   "execution_count": 1,
   "metadata": {},
   "outputs": [],
   "source": [
    "#!/usr/bin/env python3\n",
    "\"\"\"experiment_viterbi.ipynb\n",
    "James Gardner 2019\n",
    "ANU / Melbourne Uni\n",
    "\n",
    "applies viterbi analysis pipeline to experiment video of\n",
    "michelson interferometer with a mirror driven at a changing frequency\n",
    "takes signal as time series of intensity at the video's centre\n",
    "\"\"\"\n",
    "\n",
    "import cv2\n",
    "import glob\n",
    "import numpy as np\n",
    "import matplotlib.pyplot as plt\n",
    "from mpl_toolkits.axes_grid1 import make_axes_locatable\n",
    "from tqdm import tqdm_notebook as tqdm\n",
    "import scipy.io.wavfile as wavfile"
   ]
  },
  {
   "cell_type": "code",
   "execution_count": 2,
   "metadata": {},
   "outputs": [],
   "source": [
    "def viterbi_pathfinder(grid, scanning_range=3):\n",
    "    \"\"\"find the highest scoring path through the grid, left-to-right,\n",
    "    as by the viterbi algorithm, with connections plus-minus the scanning_range;\n",
    "    returns score grid for best path to each node and a bitmap of the total best path\n",
    "    \"\"\"\n",
    "    # normalised grid, algorithm goal is to maximise product of values\n",
    "    ngrid  = grid/np.max(grid)\n",
    "    # logarithm avoids underflow, equvivalent to maximise sum of log of values\n",
    "    lngrid = np.log(ngrid)\n",
    "    \n",
    "    long_timesteps = grid.shape[1]\n",
    "\n",
    "    # keep track of running scores for best path to each node\n",
    "    score_grid  = np.copy(lngrid)\n",
    "    pathfinder_flag = len(lngrid[:,0])\n",
    "    # pathfinder stores the survivor paths, i.e. the previous best step\n",
    "    # to allow back-tracking to recover the best total path at the end\n",
    "    pathfinder = np.full(np.shape(lngrid), pathfinder_flag)\n",
    "    # pathfinder flag+1 for reaching the first, 0-index column        \n",
    "    pathfinder[:,0] = pathfinder_flag+1       \n",
    "\n",
    "    # implementation of the viterbi algorithm itself\n",
    "    # finding the best path to each node, through time\n",
    "    # see: https://www.youtube.com/watch?v=6JVqutwtzmo\n",
    "    for j in range(1,long_timesteps):\n",
    "        for i in range(len(score_grid[:,j])):\n",
    "            # index values for where to look relative to i in previous column\n",
    "            k_a = max(0, i-scanning_range) \n",
    "            k_b = min(len(score_grid[:,j-1])-1,\n",
    "                      i+scanning_range)\n",
    "            window = score_grid[:,j-1][k_a:k_b+1]\n",
    "            # find the best thing nearby in the previous column ...\n",
    "            window_score = np.max(window)\n",
    "            window_ref   = k_a+np.argmax(window)\n",
    "            # ... and take note of it, summing the log of values\n",
    "            score_grid[i][j] += window_score\n",
    "            pathfinder[i][j] = window_ref \n",
    "\n",
    "    # look at the very last column, and find the best total ending ...\n",
    "    best_score  = np.max(score_grid[:,-1])\n",
    "    best_end = np.argmax(score_grid[:,-1])\n",
    "    # ... and retrace its steps through the grid\n",
    "    best_path_back = np.full(long_timesteps,pathfinder_flag+2)\n",
    "    best_path_back[-1] = best_end\n",
    "    # best_path_back is the viterbi path, the highest scoring overall \n",
    "    # path_grid is the binary image of the viterbi path taken\n",
    "    path_grid = np.zeros(np.shape(ngrid))\n",
    "    tmp_path = pathfinder[best_end][-1]\n",
    "\n",
    "    for j in reversed(range(0,long_timesteps-1)):\n",
    "        path_grid[tmp_path][j] = 1\n",
    "        # take pathfinder value in current step and follow it backwards\n",
    "        best_path_back[j] = tmp_path    \n",
    "        tmp_path = pathfinder[tmp_path][j]\n",
    "\n",
    "    # make sure we got all the way home\n",
    "    # (that the retrace found the initial edge)\n",
    "    assert tmp_path == pathfinder_flag+1\n",
    "    \n",
    "    return score_grid, path_grid"
   ]
  },
  {
   "cell_type": "code",
   "execution_count": 3,
   "metadata": {},
   "outputs": [],
   "source": [
    "def fourier_spectrum(signal, fps, return_spectrum=False,\n",
    "                     produce_plot=False, out_plot_name='tmp.pdf', out_plot_title=''):\n",
    "    \"\"\"finds fourier spectrum of signal time series as numpy array,\n",
    "    has functionality to return and/or plot the sectrum (both default off),\n",
    "    built from code originally found in tracker_time_series.ipynb\n",
    "    \"\"\"   \n",
    "    signal_frames = len(signal)\n",
    "    # will drop two frames later, fps: frames per second\n",
    "    total_time = (signal_frames-2)/fps\n",
    "    t = np.linspace(0,total_time,signal_frames)\n",
    "    dt = t[1] - t[0]\n",
    "\n",
    "    yf = np.fft.fft(signal)\n",
    "    # normalised-absolute value of FT'd signal\n",
    "    nrm_abs_yf = 2/signal_frames*np.abs(yf)\n",
    "    # values at the centre of each frequency bin\n",
    "    freq_scale = np.fft.fftfreq(len(yf),dt)\n",
    "    # real signals are symmetric about 0 in frequency domain\n",
    "    freq_scale_positive = freq_scale[:signal_frames//2]\n",
    "    # frequency distribution values on positive side\n",
    "    freq_prob = nrm_abs_yf[:signal_frames//2]\n",
    "    \n",
    "    if produce_plot:\n",
    "        fig, (ax0,ax1) = plt.subplots(2,figsize=(14,14))\n",
    "        ax0.plot(t,signal)\n",
    "        ax0.set(title='signal: {}'.format(out_plot_title),ylabel='signal strength',xlabel='time, t')\n",
    "        # signal average value gives magnitude of frequency = 0 term\n",
    "        # simple fix is to drop first two bins, otherwise need to shift signal\n",
    "        ax1.plot(freq_scale_positive[2:],freq_prob[2:])\n",
    "        ax1.set(title='discrete FFT',ylabel='freq strength in signal',xlabel='frequency, f')\n",
    "        plt.savefig(out_plot_name,bbox_inches='tight')\n",
    "        plt.clf()\n",
    "    \n",
    "    if return_spectrum:\n",
    "        return freq_prob[2:], freq_scale_positive[2:]        "
   ]
  },
  {
   "cell_type": "code",
   "execution_count": 4,
   "metadata": {},
   "outputs": [],
   "source": [
    "def fourier_spectrum_2(signal, fps, return_spectrum=False, cutter=2, remove_mains=False,\n",
    "                     produce_plot=False, out_plot_name='tmp.pdf', out_plot_title=''):\n",
    "    \"\"\"finds fourier spectrum of signal time series as numpy array,\n",
    "    has functionality to return and/or plot the sectrum (both default off),\n",
    "    built from code originally found in tracker_time_series.ipynb\n",
    "    \"\"\"   \n",
    "    signal_frames = len(signal)\n",
    "    \n",
    "    # will drop two frames later, fps: frames per second\n",
    "    total_time = (signal_frames-cutter)/fps\n",
    "    t = np.linspace(0,total_time,signal_frames)\n",
    "    dt = t[1] - t[0]\n",
    "\n",
    "    yf = np.fft.fft(signal)\n",
    "    # normalised-absolute value of FT'd signal\n",
    "    nrm_abs_yf = 2/signal_frames*np.abs(yf)\n",
    "    # values at the centre of each frequency bin\n",
    "    freq_scale = np.fft.fftfreq(len(yf),dt)\n",
    "    # real signals are symmetric about 0 in frequency domain\n",
    "    freq_scale_positive = freq_scale[cutter:signal_frames//2]\n",
    "    # frequency distribution values on positive side\n",
    "    freq_prob = nrm_abs_yf[cutter:signal_frames//2]\n",
    "    \n",
    "    # freqscale 0, +inf, -inf, -0\n",
    "    #print(freq_scale[:10], freq_prob[:10])#,freq_scale[-5])\n",
    "    \n",
    "    if produce_plot:\n",
    "        \n",
    "        # tune out 50Hz mains noise\n",
    "        # closest value in scale is index 5\n",
    "        #to_go = None#(5,)#tuple(range(10))#(5,)\n",
    "        # mains_mark\n",
    "        to_go = ()\n",
    "        \n",
    "        if remove_mains:\n",
    "            mm_0, mm_1 = None, None\n",
    "            for i, f in enumerate(freq_scale_positive):\n",
    "                if f > 50:\n",
    "                    mm_0, mm_1 = i-1, i\n",
    "                    break\n",
    "            mm_f_0 = freq_scale_positive[mm_0]\n",
    "            mm_f_1 = freq_scale_positive[mm_1]\n",
    "            if abs(mm_f_0-50) < abs(mm_f_1-50):\n",
    "                to_go = (mm_0,)\n",
    "            else:\n",
    "                to_go = (mm_1,)\n",
    "            \n",
    "        #print(to_go)\n",
    "        to_go = tuple(to_go[0]+i for i in (-1,0,1))\n",
    "        \n",
    "        freq_prob_mained = np.delete(freq_prob, to_go)\n",
    "        freq_scale_positive_mained = np.delete(freq_scale_positive, to_go)        \n",
    "        \n",
    "        #print(np.abs(yf)[:7])\n",
    "        to_go_pandn = to_go + tuple(len(yf)-i for i in to_go)\n",
    "        #print(to_go_pandn)\n",
    "        \n",
    "        yf_mained = np.delete(yf, to_go_pandn)\n",
    "        t_mained = np.delete(t, to_go_pandn)\n",
    "        iyfm = np.fft.ifft(yf_mained)\n",
    "        \n",
    "        fig, axes = plt.subplots(nrows=2,ncols=2,figsize=(21,14))\n",
    "        ax0,ax1,ax2,ax3 = axes[0,0],axes[1,0],axes[0,1],axes[1,1]\n",
    "        ax0.plot(t, signal)\n",
    "        ax0.set(title='signal: {}'.format(out_plot_title),ylabel='signal strength',xlabel='time, t')\n",
    "        ax2.plot(t_mained,iyfm)\n",
    "        ax2.set(title='i mained signal: {}'.format(out_plot_title),ylabel='signal strength',xlabel='time, t')\n",
    "        # signal average value gives magnitude of frequency = 0 term\n",
    "        # simple fix is to drop first two bins, otherwise need to shift signal\n",
    "        ax1.plot(freq_scale_positive,freq_prob)\n",
    "        ax1.set(title='discrete FFT',ylabel='freq strength in signal',xlabel='frequency, f')        \n",
    "        ax3.plot(freq_scale_positive_mained,freq_prob_mained)\n",
    "        ax3.set(title='mained discrete FFT',ylabel='freq strength in signal',xlabel='frequency, f')\n",
    "        plt.savefig(out_plot_name,bbox_inches='tight')\n",
    "        plt.clf()\n",
    "    \n",
    "    if return_spectrum:\n",
    "        return freq_prob, freq_scale_positive  "
   ]
  },
  {
   "cell_type": "code",
   "execution_count": 5,
   "metadata": {},
   "outputs": [],
   "source": [
    "def cut_mains(signal, fps, cutter=2):\n",
    "    \"\"\"returns signal with the 50Hz mains cut out\"\"\"\n",
    "    signal_frames = len(signal)\n",
    "    \n",
    "    total_time = (signal_frames-cutter)/fps\n",
    "    t = np.linspace(0,total_time,signal_frames)\n",
    "    dt = t[1] - t[0]\n",
    "\n",
    "    yf = np.fft.fft(signal)\n",
    "    # normalised-absolute value of FT'd signal\n",
    "    nrm_abs_yf = 2/signal_frames*np.abs(yf)\n",
    "    # values at the centre of each frequency bin\n",
    "    freq_scale = np.fft.fftfreq(len(yf),dt)\n",
    "    # real signals are symmetric about 0 in frequency domain\n",
    "    freq_scale_positive = freq_scale[cutter:signal_frames//2]\n",
    "    # frequency distribution values on positive side\n",
    "    freq_prob = nrm_abs_yf[cutter:signal_frames//2]\n",
    "\n",
    "    # tune out 50Hz mains noise\n",
    "    to_go = ()\n",
    "    mm_0, mm_1 = None, None\n",
    "    for i, f in enumerate(freq_scale_positive):\n",
    "        if f > 50:\n",
    "            mm_0, mm_1 = i-1, i\n",
    "            break\n",
    "    mm_f_0 = freq_scale_positive[mm_0]\n",
    "    mm_f_1 = freq_scale_positive[mm_1]\n",
    "    if abs(mm_f_0-50) < abs(mm_f_1-50):\n",
    "        to_go = (mm_0,)\n",
    "    else:\n",
    "        to_go = (mm_1,)\n",
    "\n",
    "    #print(to_go)\n",
    "    #to_go = tuple(to_go[0]+i for i in (-1,0,1))\n",
    "\n",
    "    freq_prob_mained = np.delete(freq_prob, to_go)\n",
    "    freq_scale_positive_mained = np.delete(freq_scale_positive, to_go)        \n",
    "\n",
    "    #print(np.abs(yf)[:7])\n",
    "    to_go_pandn = to_go + tuple(len(yf)-i for i in to_go)\n",
    "    #print(to_go_pandn)\n",
    "\n",
    "    yf_mained = np.delete(yf, to_go_pandn)\n",
    "    t_mained = np.delete(t, to_go_pandn)\n",
    "    iyfm = np.fft.ifft(yf_mained)\n",
    "\n",
    "    return np.abs(iyfm), t_mained"
   ]
  },
  {
   "cell_type": "code",
   "execution_count": 6,
   "metadata": {},
   "outputs": [],
   "source": [
    "def absmax(axis):\n",
    "    return max(abs(np.min(axis)), abs(np.max(axis)))"
   ]
  },
  {
   "cell_type": "code",
   "execution_count": null,
   "metadata": {},
   "outputs": [],
   "source": []
  },
  {
   "cell_type": "code",
   "execution_count": 8,
   "metadata": {},
   "outputs": [
    {
     "name": "stdout",
     "output_type": "stream",
     "text": [
      "duration: 60.0s, fps: 16426.4/s, frames: 985585\n"
     ]
    }
   ],
   "source": [
    "filename = 'podo_14_6.csv'\n",
    "# https://samplefocus.com/samples/sisters-voices\n",
    "# https://www.soundsnap.com/tags/opera\n",
    "# out_file_name = 'feynman_cut.wav'\n",
    "mega = np.genfromtxt(filename,delimiter=',')\n",
    "\n",
    "times = mega[:,0]\n",
    "long_signal = mega[:,1]\n",
    "fps = len(mega)/mega[-1,0]\n",
    "\n",
    "total_frames = len(long_signal)\n",
    "duration = total_frames/fps\n",
    "print('duration: {:.1f}s, fps: {:.1f}/s, frames: {}'.format(duration, fps, total_frames))"
   ]
  },
  {
   "cell_type": "code",
   "execution_count": null,
   "metadata": {},
   "outputs": [],
   "source": [
    "# prob, scale = fourier_spectrum_2(long_signal, fps, cutter=1, produce_plot=True,\n",
    "#                                  return_spectrum=True, remove_mains=True)"
   ]
  },
  {
   "cell_type": "code",
   "execution_count": null,
   "metadata": {},
   "outputs": [],
   "source": [
    "window_start = 30.5\n",
    "# for wsecond in [35]:#tqdm(range(3,60,5)):\n",
    "window_duration = 0.5\n",
    "window_start_frame = int(window_start/duration*total_frames)\n",
    "window_size = int(window_duration/duration*total_frames)\n",
    "\n",
    "window_signal = long_signal[window_start_frame:window_start_frame+window_size]\n",
    "window_times = times[window_start_frame:window_start_frame+window_size]\n",
    "window_prob, window_fscale = fourier_spectrum_2(window_signal, fps, return_spectrum=True)\n",
    "\n",
    "# mega_cut = mega[mark:mark+wsize]"
   ]
  },
  {
   "cell_type": "code",
   "execution_count": null,
   "metadata": {},
   "outputs": [],
   "source": [
    "window_frames = len(window_signal)\n",
    "cutter = 0\n",
    "t = window_times\n",
    "dt = t[1] - t[0]\n",
    "\n",
    "yf = np.fft.fft(window_signal)\n",
    "nrm_abs_yf = 2/window_frames*np.abs(yf)\n",
    "freq_scale = np.fft.fftfreq(len(yf),dt)\n",
    "# freqscale: 0, +inf, -inf, -0\n",
    "# freq_scale_positive = freq_scale[cutter:window_frames//2]\n",
    "# freq_prob = nrm_abs_yf[cutter:window_frames//2]\n",
    "\n",
    "# window_prob, window_fscale = yf, freq_scale\n",
    "\n",
    "# how far above 100Hz to cut the signal\n",
    "low_pass_cut = 4\n",
    "freq_noise_threshold = 0.5\n",
    "\n",
    "# treated_fscale = low_pass_fscale[low_pass_prob > freq_noise_threshold]\n",
    "treated_prob = np.copy(yf)\n",
    "treated_prob[nrm_abs_yf < freq_noise_threshold] = 0\n",
    "treated_prob[(-100 - low_pass_cut < freq_scale) &\n",
    "             (freq_scale < 100 + low_pass_cut)] = 0\n"
   ]
  },
  {
   "cell_type": "code",
   "execution_count": null,
   "metadata": {},
   "outputs": [],
   "source": [
    "# plt.plot(freq_scale, treated_prob)\n",
    "# plt.xlim(-500,500)"
   ]
  },
  {
   "cell_type": "code",
   "execution_count": null,
   "metadata": {},
   "outputs": [],
   "source": [
    "c = 0\n",
    "plt.plot(window_fscale[c:], window_prob[c:])\n",
    "plt.xlim(-10, 1000)"
   ]
  },
  {
   "cell_type": "code",
   "execution_count": null,
   "metadata": {},
   "outputs": [],
   "source": [
    "# treated_signal = np.abs(np.fft.ifft(treated_prob))\n",
    "# plt.plot(window_times, treated_signal)\n",
    "# plt.xlim(right=10.02)"
   ]
  },
  {
   "cell_type": "code",
   "execution_count": null,
   "metadata": {},
   "outputs": [],
   "source": [
    "plt.plot(window_times, window_signal)\n",
    "# plt.xlim(30.8, 31)"
   ]
  },
  {
   "cell_type": "code",
   "execution_count": null,
   "metadata": {},
   "outputs": [],
   "source": [
    "wavfile.write('p14_6_strange.wav', int(fps), window_signal/absmax(window_signal))"
   ]
  },
  {
   "cell_type": "code",
   "execution_count": null,
   "metadata": {},
   "outputs": [],
   "source": []
  },
  {
   "cell_type": "code",
   "execution_count": null,
   "metadata": {},
   "outputs": [],
   "source": [
    "filetag = '1'\n",
    "wavfile.write('p14_{}_raw.wav'.format(filetag), int(fps), long_signal/200)\n",
    "wavfile.write('p14_{}_treated.wav'.format(filetag), int(fps), treated_signal)"
   ]
  },
  {
   "cell_type": "code",
   "execution_count": null,
   "metadata": {},
   "outputs": [],
   "source": []
  },
  {
   "cell_type": "code",
   "execution_count": null,
   "metadata": {},
   "outputs": [],
   "source": []
  },
  {
   "cell_type": "code",
   "execution_count": null,
   "metadata": {},
   "outputs": [],
   "source": []
  },
  {
   "cell_type": "code",
   "execution_count": null,
   "metadata": {},
   "outputs": [],
   "source": []
  },
  {
   "cell_type": "code",
   "execution_count": null,
   "metadata": {},
   "outputs": [],
   "source": [
    "for filetag in range(7):\n",
    "    print(filetag)\n",
    "    filename = 'podo_14_{}.csv'.format(filetag)\n",
    "\n",
    "    mega = np.genfromtxt(filename,delimiter=',')\n",
    "    times = mega[:,0]\n",
    "    long_signal = mega[:,1]\n",
    "    fps = len(mega)/mega[-1,0]\n",
    "\n",
    "    wavfile.write('p14_{}_raw.wav'.format(filetag), int(fps),\n",
    "                  long_signal.astype('float32')/absmax(long_signal))"
   ]
  },
  {
   "cell_type": "code",
   "execution_count": null,
   "metadata": {},
   "outputs": [],
   "source": []
  },
  {
   "cell_type": "code",
   "execution_count": null,
   "metadata": {},
   "outputs": [],
   "source": [
    "prob_initial_max = window_fscale[np.argmax(window_prob)]\n",
    "\n",
    "if abs(prob_initial_max - 50) < 1:\n",
    "    window_fscale_1  = np.delete(window_fscale, np.argmax(window_prob))\n",
    "    window_prob_1 = np.delete(window_prob, np.argmax(window_prob))\n",
    "    print('removed mains: {:.4f}'.format(prob_initial_max))\n",
    "    \n",
    "    prob_initial_max_1 = window_fscale_1[np.argmax(window_prob_1)]\n",
    "\n",
    "    if abs(prob_initial_max_1 - 100) < 1:\n",
    "        window_fscale_2  = np.delete(window_fscale_1, np.argmax(window_prob_1))\n",
    "        window_prob_2 = np.delete(window_prob_1, np.argmax(window_prob_1))\n",
    "        print('removed mains 1st harmonic: {:.4f}'.format(prob_initial_max_1))\n",
    "    else:\n",
    "        window_fscale_2, window_prob_2 = window_fscale_1, window_prob_1\n",
    "        print(prob_initial_max_1,'not mains 1st harmonic?')    \n",
    "    \n",
    "else:\n",
    "    window_fscale_2, window_prob_2 = window_fscale, window_prob\n",
    "    print(prob_initial_max,'not mains?')\n",
    "    \n",
    "print(window_fscale_2[np.argmax(window_prob_2)])"
   ]
  },
  {
   "cell_type": "code",
   "execution_count": null,
   "metadata": {},
   "outputs": [],
   "source": []
  },
  {
   "cell_type": "code",
   "execution_count": null,
   "metadata": {},
   "outputs": [],
   "source": [
    "plt.plot(low_pass_fscale,low_pass_prob)"
   ]
  },
  {
   "cell_type": "code",
   "execution_count": null,
   "metadata": {},
   "outputs": [],
   "source": []
  },
  {
   "cell_type": "code",
   "execution_count": null,
   "metadata": {},
   "outputs": [],
   "source": [
    "# inject meandering signal\n",
    "\n",
    "# 5 minutes\n",
    "duration = 300\n",
    "fps = 16000\n",
    "long_timesteps = fps*duration\n",
    "\n",
    "bin_time = np.linspace(0,300,long_timesteps)\n",
    "# meander is the long scale change in the sine frequency\n",
    "meander_amp = 9\n",
    "meander_decay = 0.01\n",
    "meander_freq = 0.005\n",
    "# meander_amp = 300\n",
    "# meander_decay = 0.01\n",
    "# meander_freq = 0.01\n",
    "meander = lambda x: meander_amp*(\n",
    "    np.exp(-x*meander_decay)*np.sin(meander_freq*2*np.pi*x))\n",
    "\n",
    "initial_frequency = 5\n",
    "# initial_frequency = 440\n",
    "wandering_freqs = initial_frequency + meander(bin_time)\n",
    "\n",
    "plt.figure(figsize=(14, 7))\n",
    "plt.plot(bin_time, wandering_freqs)\n",
    "# plt.xlim(0, 60)\n",
    "plt.title('webcam viterbi test: injected frequency versus time')\n",
    "plt.xlabel('time, t / s')\n",
    "plt.ylabel('injected signal frequency, f / Hz')\n",
    "plt.show()\n",
    "# plt.savefig('wandering_webcam.pdf')"
   ]
  },
  {
   "cell_type": "code",
   "execution_count": null,
   "metadata": {},
   "outputs": [],
   "source": [
    "big_n = bin_time.shape[0]\n",
    "together = np.zeros((100, 2))\n",
    "together[:, 0], together[:, 1] = (bin_time[::big_n//99],\n",
    "                                  wandering_freqs[::big_n//99])\n",
    "np.savetxt('wandering_webcam.csv', together, delimiter=',')"
   ]
  },
  {
   "cell_type": "code",
   "execution_count": null,
   "metadata": {},
   "outputs": [],
   "source": []
  },
  {
   "cell_type": "code",
   "execution_count": null,
   "metadata": {},
   "outputs": [],
   "source": []
  },
  {
   "cell_type": "code",
   "execution_count": null,
   "metadata": {},
   "outputs": [],
   "source": [
    "# sin(2*pi*f*t)\n",
    "# therefore sin(g(t)), 2*pi*f = dg/dt\n",
    "# sin(2*pi*\\int{f(t)dt}) gives f = f(t)\n",
    "# and cumsum is discrete \\int (integral)\n",
    "# https://au.mathworks.com/matlabcentral/answers/217746-implementing-a-sine-wave-with-linearly-changing-frequency\n",
    "\n",
    "inj_signal = np.sin(2*np.pi*np.cumsum(wandering_freqs)/fps)"
   ]
  },
  {
   "cell_type": "code",
   "execution_count": null,
   "metadata": {},
   "outputs": [],
   "source": [
    "# plt.plot(bin_time, inj_signal)\n",
    "# plt.xlim(15, 16)\n",
    "# print(wandering_freqs[fps*15])"
   ]
  },
  {
   "cell_type": "code",
   "execution_count": null,
   "metadata": {},
   "outputs": [],
   "source": [
    "# plt.plot(np.linspace(0,1,100), np.sin(2*np.pi*8*np.linspace(0,1,100)))"
   ]
  },
  {
   "cell_type": "code",
   "execution_count": null,
   "metadata": {},
   "outputs": [],
   "source": [
    "wavfile.write('inj_webcam.wav', int(fps), inj_signal)"
   ]
  },
  {
   "cell_type": "code",
   "execution_count": null,
   "metadata": {},
   "outputs": [],
   "source": []
  },
  {
   "cell_type": "code",
   "execution_count": null,
   "metadata": {},
   "outputs": [],
   "source": [
    "mained_signal, mained_times = cut_mains(window_signal, fps)\n",
    "# prob, scale = fourier_spectrum_2(cut, fps, produce_plot=True, remove_mains=True,\n",
    "#                                  out_plot_name='cut2.pdf', return_spectrum=True, cutter=4000)\n",
    "\n",
    "fig, (ax0, ax1) = plt.subplots(2,figsize=(14,14))\n",
    "ax0.plot(cut)\n",
    "ax1.plot(mained_signal)\n",
    "# plt.savefig('a440_mained_experiment.pdf')\n",
    "# plt.clf()\n",
    "plt.show()"
   ]
  },
  {
   "cell_type": "code",
   "execution_count": null,
   "metadata": {},
   "outputs": [],
   "source": []
  },
  {
   "cell_type": "code",
   "execution_count": null,
   "metadata": {},
   "outputs": [],
   "source": [
    "filename = 'podo_opera3.csv'\n",
    "mega = np.genfromtxt(filename,delimiter=',')\n",
    "long_signal = mega[:,1]\n",
    "fps = len(mega)/mega[-1,0]\n",
    "\n",
    "wavfile.write('opera_raw.wav', int(fps), long_signal[1000:])"
   ]
  },
  {
   "cell_type": "code",
   "execution_count": null,
   "metadata": {},
   "outputs": [],
   "source": []
  },
  {
   "cell_type": "code",
   "execution_count": null,
   "metadata": {},
   "outputs": [],
   "source": [
    "infile_name = 'source_a440.wav'\n",
    "outfile_name = None#'a440_digi.wav'\n",
    "rate, signal = wavfile.read(infile_name)\n",
    "# mono np.nonzero(signal[:,0] - signal[:,1])\n",
    "if len(signal.shape) > 1:\n",
    "    signal = signal[:,0]\n",
    "\n",
    "# decrease rate from 44100 to around 16000\n",
    "audio_expt_rate = int(fps)\n",
    "if rate > audio_expt_rate + 1000:\n",
    "    # rate/audio_expt_rate ~= 2.7 \n",
    "    rate_ratio = rate/audio_expt_rate\n",
    "    print('rate_ratio:',rate_ratio)\n",
    "    # sample every rate_ratio values\n",
    "    those = np.round(rate_ratio*np.arange(len(signal))).astype(int)\n",
    "    those = those[those < len(signal)]\n",
    "    sampled_signal = signal[those]\n",
    "else:\n",
    "    sampled_signal = signal\n",
    "    audio_expt_rate = rate\n",
    "\n",
    "# sampled_signal_n = sampled_signal/absmax(sampled_signal)\n",
    "# sampled_signal_n -= sampled_signal_n.mean()\n",
    "\n",
    "# bin signal into channels\n",
    "intensity_channels = 100\n",
    "# centre = sampled_signal.mean()\n",
    "m0, m1 = sampled_signal.min(), sampled_signal.max()\n",
    "bins = np.linspace(m0-1e-10, m1+1e-10, intensity_channels)\n",
    "bin_lookup = np.digitize(sampled_signal, bins)\n",
    "digi_signal = bins[bin_lookup]/m1\n",
    "# digi_signal = digi_signal/intensity_channels\n",
    "# digi_signal = (digi_signal-0.5)*2*absmax(sampled_signal)+centre\n",
    "\n",
    "# data_to_audio = digi_signal\n",
    "\n",
    "# squeeze = data_to_audio/data_to_audio.max()\n",
    "# amplitude = np.iinfo(np.int16).max\n",
    "# scaled_data = amplitude * (squeeze-squeeze.mean())\n",
    "\n",
    "if outfile_name is None:\n",
    "    outfile_name = '{}_digi.wav'.format(infile_name[:-4])\n",
    "wavfile.write(outfile_name, audio_expt_rate, digi_signal)"
   ]
  },
  {
   "cell_type": "code",
   "execution_count": null,
   "metadata": {},
   "outputs": [],
   "source": [
    "rate, signal = wavfile.read('source_feynman(1).wav')\n",
    "# mono np.nonzero(signal[:,0] - signal[:,1])\n",
    "signal = signal[:,0]\n",
    "\n",
    "# decrease rate from 44100 to around 16000\n",
    "audio_expt_rate = int(fps)\n",
    "# rate/audio_expt_rate ~= 2.7 \n",
    "rate_ratio = rate/audio_expt_rate\n",
    "# sample every rate_ratio values\n",
    "those = np.round(rate_ratio*np.arange(len(signal))).astype(int)\n",
    "those = those[those < len(signal)]\n",
    "sampled_signal = signal[those]\n",
    "\n",
    "wavfile.write('feynman_sampled.wav', audio_expt_rate, sampled_signal)"
   ]
  },
  {
   "cell_type": "code",
   "execution_count": null,
   "metadata": {},
   "outputs": [],
   "source": [
    "rate, signal = wavfile.read('source_feynman(1).wav')\n",
    "# mono np.nonzero(signal[:,0] - signal[:,1])\n",
    "signal = signal[:,0]\n",
    "\n",
    "amplitude = np.iinfo(np.int16).max\n",
    "squeeze = signal/absmax(signal)*amplitude/2\n",
    "# scaled_data = amplitude * (squeeze-squeeze.mean())\n",
    "# shift = signal+signal.mean()/1000\n",
    "\n",
    "wavfile.write('feynman_direct.wav', rate, squeeze)"
   ]
  },
  {
   "cell_type": "code",
   "execution_count": null,
   "metadata": {},
   "outputs": [],
   "source": [
    "rate, signal = wavfile.read('source_feynman(1).wav')\n",
    "mono_signal = signal[:,0]\n",
    "wavfile.write('feynamn_nochanges.wav', rate, mono_signal)"
   ]
  },
  {
   "cell_type": "code",
   "execution_count": null,
   "metadata": {},
   "outputs": [],
   "source": []
  },
  {
   "cell_type": "code",
   "execution_count": null,
   "metadata": {},
   "outputs": [],
   "source": [
    "fig, (ax0, ax1) = plt.subplots(2,figsize=(14,14))\n",
    "# a,b,b1 = 0, int(len(signal)/100), int(len(signal)/40+10000)\n",
    "a, b = 0, int(len(signal)/50)\n",
    "ax0.plot(signal[a:b])\n",
    "ax1.plot(digi_signal[a:b])\n",
    "plt.savefig('a440_digitised_simulation.pdf')\n",
    "plt.clf()\n",
    "# plt.show()"
   ]
  },
  {
   "cell_type": "code",
   "execution_count": null,
   "metadata": {},
   "outputs": [],
   "source": []
  },
  {
   "cell_type": "code",
   "execution_count": null,
   "metadata": {},
   "outputs": [],
   "source": []
  },
  {
   "cell_type": "code",
   "execution_count": null,
   "metadata": {},
   "outputs": [],
   "source": []
  },
  {
   "cell_type": "code",
   "execution_count": null,
   "metadata": {},
   "outputs": [],
   "source": []
  },
  {
   "cell_type": "code",
   "execution_count": null,
   "metadata": {},
   "outputs": [],
   "source": [
    "# # pitch bend by frames, not biggest issue\n",
    "# audio_sample_rate = int(fps)\n",
    "# amplitude = np.iinfo(np.int16).max\n",
    "\n",
    "# data_to_audio = signal#signalm\n",
    "# out_file_name = 'feynman_test.wav'\n",
    "# squeeze = data_to_audio/data_to_audio.max()\n",
    "# scaled_data = amplitude * (squeeze-squeeze.mean())\n",
    "\n",
    "# wavfile.write(out_file_name, audio_sample_rate, scaled_data)"
   ]
  },
  {
   "cell_type": "code",
   "execution_count": null,
   "metadata": {},
   "outputs": [],
   "source": [
    "# audio_sample_rate = 44100\n",
    "# # 2**15-1 = 32767, see int16\n",
    "# amplitude = np.iinfo(np.int16).max\n",
    "# duration = 1\n",
    "# t = np.linspace(0, duration, audio_sample_rate)\n",
    "\n",
    "# freq_inj = 440\n",
    "# data = amplitude * np.sin(2*np.pi*freq_inj*t)\n",
    "# write('sine.wav', audio_sample_rate, data)\n",
    "\n",
    "# # could scale if wanting full dynamic range\n",
    "# data = amplitude * np.random.uniform(-1, 1, audio_sample_rate)\n",
    "# write('white_noise.wav', audio_sample_rate, data)"
   ]
  },
  {
   "cell_type": "code",
   "execution_count": null,
   "metadata": {},
   "outputs": [],
   "source": []
  },
  {
   "cell_type": "code",
   "execution_count": null,
   "metadata": {},
   "outputs": [],
   "source": []
  },
  {
   "cell_type": "code",
   "execution_count": null,
   "metadata": {},
   "outputs": [],
   "source": [
    "filename = 'podo_viterbi_test.csv'\n",
    "mega = np.genfromtxt(filename,delimiter=',')\n",
    "\n",
    "long_signal = mega[:,1]\n",
    "fps = len(mega)/mega[-1,0]\n",
    "del mega\n",
    "\n",
    "total_frames = len(long_signal)\n",
    "duration = total_frames/fps\n",
    "print(fps, total_frames, duration)"
   ]
  },
  {
   "cell_type": "code",
   "execution_count": null,
   "metadata": {},
   "outputs": [],
   "source": [
    "# # start by finding the signal to be split into bins\n",
    "# long_signal, fps = series_at_point(filename,return_series=True)\n",
    "\n",
    "total_frames = len(long_signal)\n",
    "duration = total_frames/fps\n",
    "\n",
    "long_timesteps = 600\n",
    "scanning_range = 3\n",
    "\n",
    "# q,r = divmod(a,b) s.t. a = q*b+r\n",
    "bin_frames, bin_remainder = divmod(total_frames,long_timesteps)\n",
    "# bin_duration = bin_frames/fps\n",
    "# acts as flag to stop short of the remainder, which is lost\n",
    "bin_last = total_frames - bin_remainder\n",
    "# always has long_timesteps number of chunks\n",
    "bin_signals = [long_signal[i: i+bin_frames] for i in range(0, bin_last, bin_frames)]\n",
    "\n",
    "# creating the signal grid\n",
    "grid_frames = bin_frames//2\n",
    "grid = np.zeros((grid_frames,long_timesteps))\n",
    "\n",
    "for i, signal in enumerate(tqdm(bin_signals)):\n",
    "    # columns are each spectrum, rows are frequency through time\n",
    "    #col, freq_scale_cut = fourier_spectrum(signal, fps, return_spectrum=True)\n",
    "    col, freq_scale_cut = fourier_spectrum_2(signal, fps, return_spectrum=True,cutter=0)\n",
    "    grid[:,i] = col"
   ]
  },
  {
   "cell_type": "code",
   "execution_count": null,
   "metadata": {},
   "outputs": [],
   "source": [
    "fgrid = grid[100:,:]\n",
    "\n",
    "ngrid = fgrid/np.max(fgrid)    \n",
    "    \n",
    "path_grid = viterbi_pathfinder(fgrid, scanning_range)[1]\n",
    "print('viterbi path found')"
   ]
  },
  {
   "cell_type": "code",
   "execution_count": null,
   "metadata": {},
   "outputs": [],
   "source": [
    "freq_scale_cut[90:110]"
   ]
  },
  {
   "cell_type": "code",
   "execution_count": null,
   "metadata": {},
   "outputs": [],
   "source": [
    "plt.figure(figsize=(14, 7))\n",
    "plt.imshow(np.log(fgrid[1:]), aspect='auto')\n",
    "plt.show()"
   ]
  },
  {
   "cell_type": "code",
   "execution_count": null,
   "metadata": {},
   "outputs": [],
   "source": [
    "np.nonzero(path_grid[:,251])"
   ]
  },
  {
   "cell_type": "code",
   "execution_count": null,
   "metadata": {},
   "outputs": [],
   "source": [
    "freq_scale_cut[149]"
   ]
  },
  {
   "cell_type": "code",
   "execution_count": null,
   "metadata": {},
   "outputs": [],
   "source": [
    "plt.plot(fgrid[:,200])\n",
    "plt.show()"
   ]
  },
  {
   "cell_type": "code",
   "execution_count": null,
   "metadata": {},
   "outputs": [],
   "source": []
  },
  {
   "cell_type": "code",
   "execution_count": null,
   "metadata": {},
   "outputs": [],
   "source": [
    "filename = 'podo_viterbi_test'\n",
    "filetag = 'podo_viterbi_test'\n",
    "\n",
    "plt.figure(figsize=(7,14))\n",
    "plt.imshow(ngrid, cmap='viridis');\n",
    "plt.gca().xaxis.tick_top()\n",
    "plt.gca().xaxis.set_label_position('top')  \n",
    "# plt.xticks(np.arange(long_timesteps),xtick_labels_1, rotation=90)\n",
    "# plt.yticks(np.arange(grid_frames),ytick_labels_1)\n",
    "cbar_fraction = 0.025\n",
    "cbar = plt.colorbar(fraction=cbar_fraction) \n",
    "cbar.set_label('normalised frequency distribution')\n",
    "plt.title('{}\\n fourier spectrum of signal binned over time\\n'.format(filename))\n",
    "plt.ylabel('signal frequency, f / Hz')\n",
    "plt.xlabel('long time duration, t / s')\n",
    "plt.savefig('expt_ngrid_{}.pdf'.format(filetag),bbox_inches='tight')\n",
    "plt.clf()\n",
    "\n",
    "plt.figure(figsize=(7,14))\n",
    "plt.imshow(path_grid, cmap='viridis');\n",
    "plt.gca().xaxis.tick_top()\n",
    "plt.gca().xaxis.set_label_position('top')  \n",
    "# plt.xticks(np.arange(long_timesteps),xtick_labels_1, rotation=90)\n",
    "# plt.yticks(np.arange(grid_frames),ytick_labels_1)\n",
    "plt.title('{}\\n viterbi path through signal grid'.format(filename))\n",
    "plt.ylabel('signal frequency, f / Hz')\n",
    "plt.xlabel('long time duration, t / s')\n",
    "plt.savefig('expt_viterbi_path_{}.pdf'.format(filetag),bbox_inches='tight')\n",
    "plt.clf()"
   ]
  },
  {
   "cell_type": "code",
   "execution_count": null,
   "metadata": {},
   "outputs": [],
   "source": []
  },
  {
   "cell_type": "code",
   "execution_count": 45,
   "metadata": {},
   "outputs": [
    {
     "name": "stdout",
     "output_type": "stream",
     "text": [
      "duration: 60.0s, fps: 16426.4/s, frames: 985585\n"
     ]
    }
   ],
   "source": [
    "filename = 'podo_14_6.csv'\n",
    "\n",
    "mega = np.genfromtxt(filename,delimiter=',')\n",
    "\n",
    "times = mega[:,0]\n",
    "long_signal = mega[:,1]\n",
    "fps = len(mega)/mega[-1,0]\n",
    "\n",
    "total_frames = len(long_signal)\n",
    "duration = total_frames/fps\n",
    "print('duration: {:.1f}s, fps: {:.1f}/s, frames: {}'.format(duration, fps, total_frames))"
   ]
  },
  {
   "cell_type": "code",
   "execution_count": 64,
   "metadata": {},
   "outputs": [],
   "source": [
    "c0, c1 = 10000, 400000\n",
    "cut = long_signal[c0:c1]\n",
    "cut_time = times[c0:c1]-times[c0]"
   ]
  },
  {
   "cell_type": "code",
   "execution_count": 74,
   "metadata": {},
   "outputs": [
    {
     "data": {
      "image/png": "[encoded data removed]",
      "text/plain": [
       "<Figure size 1008x504 with 2 Axes>"
      ]
     },
     "metadata": {},
     "output_type": "display_data"
    }
   ],
   "source": [
    "fig, (ax0,ax1) = plt.subplots(2,figsize=(14,7))\n",
    "ax0.plot(cut_time, cut)\n",
    "ax0.set(title='example of noise from no sound, laser on',ylabel='photodiode reading',xlabel='time, t / s')\n",
    "ax1.psd(cut, int(2**13), fps)\n",
    "# ax1.set_xlim(0, 2000)\n",
    "plt.savefig('longer_noise_psd_full_spectrum.pdf')\n",
    "plt.show()"
   ]
  },
  {
   "cell_type": "code",
   "execution_count": 70,
   "metadata": {},
   "outputs": [
    {
     "data": {
      "text/plain": [
       "4096"
      ]
     },
     "execution_count": 70,
     "metadata": {},
     "output_type": "execute_result"
    }
   ],
   "source": []
  },
  {
   "cell_type": "code",
   "execution_count": null,
   "metadata": {},
   "outputs": [],
   "source": []
  }
 ],
 "metadata": {
  "kernelspec": {
   "display_name": "Python 3",
   "language": "python",
   "name": "python3"
  },
  "language_info": {
   "codemirror_mode": {
    "name": "ipython",
    "version": 3
   },
   "file_extension": ".py",
   "mimetype": "text/x-python",
   "name": "python",
   "nbconvert_exporter": "python",
   "pygments_lexer": "ipython3",
   "version": "3.6.9"
  }
 },
 "nbformat": 4,
 "nbformat_minor": 2
}

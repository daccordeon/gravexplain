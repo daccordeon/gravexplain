{
 "cells": [
  {
   "cell_type": "code",
   "execution_count": 1,
   "metadata": {},
   "outputs": [],
   "source": [
    "#!/usr/bin/env python3\n",
    "\"\"\"mock_continuous_signal.ipynb\n",
    "James Gardner 2019\n",
    "Melbourne Uni\n",
    "\"\"\"\n",
    "\n",
    "# import pandas as pd\n",
    "import numpy as np\n",
    "import matplotlib.pyplot as plt\n",
    "# %matplotlib inline\n",
    "from tqdm import tqdm_notebook as tqdm"
   ]
  },
  {
   "cell_type": "code",
   "execution_count": null,
   "metadata": {},
   "outputs": [],
   "source": []
  },
  {
   "cell_type": "code",
   "execution_count": 11,
   "metadata": {},
   "outputs": [
    {
     "data": {
      "image/png": "[encoded data removed]",
      "text/plain": [
       "<Figure size 432x288 with 1 Axes>"
      ]
     },
     "metadata": {},
     "output_type": "display_data"
    }
   ],
   "source": [
    "n_t = int(1e3)\n",
    "# ultimately, freq_prob will be half this size\n",
    "t = np.linspace(0,2*np.pi,n_t)\n",
    "dt = t[1]-t[0]\n",
    "raw_freq = 20\n",
    "\n",
    "raw_signal = np.sin(raw_freq*2*np.pi*t)\n",
    "\n",
    "noise_scale = 0.2\n",
    "noise = np.random.normal(0,noise_scale,raw_signal.shape)\n",
    "\n",
    "injected_signal = raw_signal + noise\n",
    "# plt.plot(t,injected_signal)\n",
    "# plt.show()\n",
    "\n",
    "yf = np.fft.fft(injected_signal)\n",
    "nrm_abs_yf = 2/n_t*np.abs(yf)\n",
    "inj_freq = np.fft.fftfreq(len(yf),dt)\n",
    "# np.fft.fftfreq outputs 0 to +inf then -inf to 0, so :N//2 gets +ve side; wild!\n",
    "plt.plot(inj_freq[:n_t//2],nrm_abs_yf[:n_t//2])\n",
    "freq_prob = nrm_abs_yf[:n_t//2]\n",
    "\n",
    "plt.show()"
   ]
  },
  {
   "cell_type": "code",
   "execution_count": null,
   "metadata": {},
   "outputs": [],
   "source": []
  },
  {
   "cell_type": "code",
   "execution_count": null,
   "metadata": {},
   "outputs": [],
   "source": []
  },
  {
   "cell_type": "code",
   "execution_count": null,
   "metadata": {},
   "outputs": [],
   "source": []
  },
  {
   "cell_type": "code",
   "execution_count": null,
   "metadata": {},
   "outputs": [],
   "source": []
  },
  {
   "cell_type": "code",
   "execution_count": null,
   "metadata": {},
   "outputs": [],
   "source": []
  },
  {
   "cell_type": "code",
   "execution_count": 4,
   "metadata": {},
   "outputs": [],
   "source": [
    "# https://stackoverflow.com/questions/25735153/plotting-a-fast-fourier-transform-in-python\n",
    "# N = 600\n",
    "# # t = np.arange(N)/N*2*np.pi\n",
    "# # t = np.arange(0,2*np.pi,T)\n",
    "# t = np.linspace(0,2*np.pi,N)\n",
    "# T = t[1]-t[0]\n",
    "\n",
    "# y = np.sin(50*2*np.pi*t) + 0.5*np.sin(80*2*np.pi*t)\n",
    "# # plt.plot(t,y)\n",
    "# # plt.show()\n",
    "\n",
    "# # nrm_abs_yf = 2/n_t*np.abs(yf)\n",
    "# # inj_freq = np.fft.fftfreq(len(yf),dt)\n",
    "# # plt.plot(inj_freq,nrm_abs_yf)\n",
    "\n",
    "# yf = np.fft.fft(y)\n",
    "# xf = np.linspace(0, 1/(2*T), N//2)\n",
    "# plt.plot(xf, 2/N * np.abs(yf[:N//2]))\n",
    "# plt.show()"
   ]
  },
  {
   "cell_type": "code",
   "execution_count": null,
   "metadata": {},
   "outputs": [],
   "source": []
  }
 ],
 "metadata": {
  "kernelspec": {
   "display_name": "Python 3",
   "language": "python",
   "name": "python3"
  },
  "language_info": {
   "codemirror_mode": {
    "name": "ipython",
    "version": 3
   },
   "file_extension": ".py",
   "mimetype": "text/x-python",
   "name": "python",
   "nbconvert_exporter": "python",
   "pygments_lexer": "ipython3",
   "version": "3.6.8"
  }
 },
 "nbformat": 4,
 "nbformat_minor": 2
}

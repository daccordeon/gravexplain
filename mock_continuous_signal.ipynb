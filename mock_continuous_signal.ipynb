{
 "cells": [
  {
   "cell_type": "code",
   "execution_count": 1,
   "metadata": {},
   "outputs": [],
   "source": [
    "#!/usr/bin/env python3\n",
    "\"\"\"mock_continuous_signal.ipynb\n",
    "James Gardner 2019\n",
    "Melbourne Uni\n",
    "\"\"\"\n",
    "\n",
    "# import pandas as pd\n",
    "import numpy as np\n",
    "import matplotlib.pyplot as plt\n",
    "plt.rcParams.update({'font.size': 18})\n",
    "# %matplotlib inline\n",
    "from tqdm import tqdm_notebook as tqdm"
   ]
  },
  {
   "cell_type": "code",
   "execution_count": 2,
   "metadata": {},
   "outputs": [],
   "source": [
    "class SineSignal(object):\n",
    "    n_t = int(1e3)\n",
    "    # ultimately, freq_prob will be half this size\n",
    "    t = np.linspace(0,2*np.pi,n_t)    \n",
    "    dt = t[1]-t[0]\n",
    "    noise_scale = 5\n",
    "    \n",
    "    def __init__(self,raw_freq):\n",
    "        self.raw_freq = raw_freq\n",
    "        self.raw_signal = np.sin(raw_freq*2*np.pi*SineSignal.t)\n",
    "        self.noise = np.random.normal(0,SineSignal.noise_scale,self.raw_signal.shape)\n",
    "        self.injected_signal = self.raw_signal + self.noise\n",
    "        self.yf = np.fft.fft(self.injected_signal)\n",
    "        self.nrm_abs_yf = 2/SineSignal.n_t*np.abs(self.yf)\n",
    "        self.inj_freq = np.fft.fftfreq(len(self.yf),SineSignal.dt)\n",
    "        # np.fft.fftfreq outputs 0 to +inf then -inf to 0, so :N//2 gets +ve side; wild!\n",
    "        self.freq_prob = self.nrm_abs_yf[:SineSignal.n_t//2]\n",
    "        \n",
    "    def plot(self):\n",
    "        plt.figure(figsize=(14,7))\n",
    "        plt.plot(SineSignal.t,self.injected_signal)\n",
    "        plt.title(\"injected signal\")\n",
    "        plt.ylabel(\"signal value\")\n",
    "        plt.xlabel(\"signal time chunk\")\n",
    "        plt.show()\n",
    "        plt.figure(figsize=(14,7))        \n",
    "        plt.plot(self.inj_freq[:SineSignal.n_t//2],self.freq_prob)\n",
    "        plt.title(\"discrete FFT\")\n",
    "        plt.ylabel(\"freq strength in signal\")                \n",
    "        plt.xlabel(\"frequency\")\n",
    "        plt.show()"
   ]
  },
  {
   "cell_type": "code",
   "execution_count": 3,
   "metadata": {},
   "outputs": [],
   "source": [
    "# SineSignal(5).plot()"
   ]
  },
  {
   "cell_type": "code",
   "execution_count": 4,
   "metadata": {},
   "outputs": [
    {
     "name": "stdout",
     "output_type": "stream",
     "text": [
      "(500, 100)\n"
     ]
    },
    {
     "data": {
      "application/vnd.jupyter.widget-view+json": {
       "model_id": "f0ef159ffe1949baa6445dcb5c15edb9",
       "version_major": 2,
       "version_minor": 0
      },
      "text/plain": [
       "HBox(children=(IntProgress(value=1, bar_style='info', max=1), HTML(value='')))"
      ]
     },
     "metadata": {},
     "output_type": "display_data"
    },
    {
     "name": "stdout",
     "output_type": "stream",
     "text": [
      "\n"
     ]
    },
    {
     "data": {
      "image/png": "[encoded data removed]",
      "text/plain": [
       "<Figure size 1008x504 with 1 Axes>"
      ]
     },
     "metadata": {},
     "output_type": "display_data"
    },
    {
     "data": {
      "text/plain": [
       "<Figure size 5040x2520 with 0 Axes>"
      ]
     },
     "metadata": {},
     "output_type": "display_data"
    }
   ],
   "source": [
    "long_timesteps = 100\n",
    "bin_time = np.linspace(0,1,long_timesteps)\n",
    "# again halve total number of points due to fft on real function\n",
    "grid = np.zeros((SineSignal.n_t//2,long_timesteps))\n",
    "print(grid.shape)\n",
    "\n",
    "meander_amp = 20\n",
    "meander_decay = 2\n",
    "meander_freq = 2\n",
    "meander = lambda x: meander_amp*np.exp(-x*meander_decay)*np.sin(meander_freq*2*np.pi*x)\n",
    "\n",
    "wandering_freqs = meander(bin_time)+20\n",
    "\n",
    "post_freq = []\n",
    "\n",
    "for i,f in tqdm(enumerate(wandering_freqs)):\n",
    "    thing_f = SineSignal(f)\n",
    "    col = thing_f.freq_prob\n",
    "    grid[:,i] = col\n",
    "    post_freq.append(thing_f.inj_freq[col.argmax()])\n",
    "\n",
    "plt.figure(figsize=(14,7))\n",
    "plt.plot(bin_time,meander(bin_time)+20,'.')    \n",
    "plt.plot(bin_time,post_freq,'r.')\n",
    "plt.ylabel(\"signal frequency\")\n",
    "plt.xlabel(\"bin time\")\n",
    "plt.show()\n",
    "\n",
    "plt.figure(figsize=(70,35))\n",
    "plt.imshow(grid, cmap='viridis')\n",
    "plt.gca().xaxis.tick_top()\n",
    "plt.colorbar()\n",
    "plt.ylabel('signal frequency bins')\n",
    "plt.xlabel('long time bins')\n",
    "plt.savefig('wandering.pdf')\n",
    "plt.clf()"
   ]
  },
  {
   "cell_type": "code",
   "execution_count": null,
   "metadata": {},
   "outputs": [],
   "source": []
  },
  {
   "cell_type": "code",
   "execution_count": 5,
   "metadata": {},
   "outputs": [],
   "source": [
    "# n_t = int(1e3)\n",
    "# # ultimately, freq_prob will be half this size\n",
    "# t = np.linspace(0,2*np.pi,n_t)\n",
    "# dt = t[1]-t[0]\n",
    "# raw_freq = 20\n",
    "\n",
    "# raw_signal = np.sin(raw_freq*2*np.pi*t)\n",
    "\n",
    "# noise_scale = 0.2\n",
    "# noise = np.random.normal(0,noise_scale,raw_signal.shape)\n",
    "\n",
    "# injected_signal = raw_signal + noise\n",
    "# # plt.plot(t,injected_signal)\n",
    "# # plt.show()\n",
    "\n",
    "# yf = np.fft.fft(injected_signal)\n",
    "# nrm_abs_yf = 2/n_t*np.abs(yf)\n",
    "# inj_freq = np.fft.fftfreq(len(yf),dt)\n",
    "# # np.fft.fftfreq outputs 0 to +inf then -inf to 0, so :N//2 gets +ve side; wild!\n",
    "# plt.plot(inj_freq[:n_t//2],nrm_abs_yf[:n_t//2])\n",
    "# freq_prob = nrm_abs_yf[:n_t//2]\n",
    "\n",
    "# plt.show()"
   ]
  },
  {
   "cell_type": "code",
   "execution_count": 6,
   "metadata": {},
   "outputs": [],
   "source": [
    "# https://stackoverflow.com/questions/25735153/plotting-a-fast-fourier-transform-in-python\n",
    "# N = 600\n",
    "# # t = np.arange(N)/N*2*np.pi\n",
    "# # t = np.arange(0,2*np.pi,T)\n",
    "# t = np.linspace(0,2*np.pi,N)\n",
    "# T = t[1]-t[0]\n",
    "\n",
    "# y = np.sin(50*2*np.pi*t) + 0.5*np.sin(80*2*np.pi*t)\n",
    "# # plt.plot(t,y)\n",
    "# # plt.show()\n",
    "\n",
    "# # nrm_abs_yf = 2/n_t*np.abs(yf)\n",
    "# # inj_freq = np.fft.fftfreq(len(yf),dt)\n",
    "# # plt.plot(inj_freq,nrm_abs_yf)\n",
    "\n",
    "# yf = np.fft.fft(y)\n",
    "# xf = np.linspace(0, 1/(2*T), N//2)\n",
    "# plt.plot(xf, 2/N * np.abs(yf[:N//2]))\n",
    "# plt.show()"
   ]
  },
  {
   "cell_type": "code",
   "execution_count": null,
   "metadata": {},
   "outputs": [],
   "source": []
  }
 ],
 "metadata": {
  "kernelspec": {
   "display_name": "Python 3",
   "language": "python",
   "name": "python3"
  },
  "language_info": {
   "codemirror_mode": {
    "name": "ipython",
    "version": 3
   },
   "file_extension": ".py",
   "mimetype": "text/x-python",
   "name": "python",
   "nbconvert_exporter": "python",
   "pygments_lexer": "ipython3",
   "version": "3.6.8"
  }
 },
 "nbformat": 4,
 "nbformat_minor": 2
}

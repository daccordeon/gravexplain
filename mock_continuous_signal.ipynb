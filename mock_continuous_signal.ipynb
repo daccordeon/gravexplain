{
 "cells": [
  {
   "cell_type": "code",
   "execution_count": null,
   "metadata": {},
   "outputs": [],
   "source": [
    "#!/usr/bin/env python3\n",
    "\"\"\"mock_continuous_signal.ipynb\n",
    "James Gardner 2019\n",
    "Melbourne Uni\n",
    "\"\"\"\n",
    "\n",
    "# import pandas as pd\n",
    "import numpy as np\n",
    "import matplotlib.pyplot as plt\n",
    "plt.rcParams.update({'font.size': 18})\n",
    "# %matplotlib inline\n",
    "from tqdm import tqdm_notebook as tqdm"
   ]
  },
  {
   "cell_type": "code",
   "execution_count": null,
   "metadata": {},
   "outputs": [],
   "source": [
    "class SineSignal(object):\n",
    "    n_t = int(1e3)\n",
    "    # ultimately, freq_prob will be half this size\n",
    "    t = np.linspace(0,2*np.pi,n_t)    \n",
    "    dt = t[1]-t[0]\n",
    "    noise_scale = 7\n",
    "    \n",
    "    def __init__(self,raw_freq):\n",
    "        self.raw_freq = raw_freq\n",
    "        self.raw_signal = np.sin(raw_freq*2*np.pi*SineSignal.t)\n",
    "        self.noise = np.random.normal(0,SineSignal.noise_scale,self.raw_signal.shape)\n",
    "        self.injected_signal = self.raw_signal + self.noise\n",
    "        self.yf = np.fft.fft(self.injected_signal)\n",
    "        self.nrm_abs_yf = 2/SineSignal.n_t*np.abs(self.yf)\n",
    "        self.inj_freq = np.fft.fftfreq(len(self.yf),SineSignal.dt)\n",
    "        # np.fft.fftfreq outputs 0 to +inf then -inf to 0, so :N//2 gets +ve side; wild!\n",
    "        self.freq_prob = self.nrm_abs_yf[:SineSignal.n_t//2]\n",
    "        \n",
    "    def plot(self):\n",
    "        plt.figure(figsize=(14,7))\n",
    "        plt.plot(SineSignal.t,self.injected_signal)\n",
    "        plt.title(\"injected signal\")\n",
    "        plt.ylabel(\"signal value\")\n",
    "        plt.xlabel(\"signal time chunk\")\n",
    "        plt.show()\n",
    "        plt.figure(figsize=(14,7))        \n",
    "        plt.plot(self.inj_freq[:SineSignal.n_t//2],self.freq_prob)\n",
    "        plt.title(\"discrete FFT\")\n",
    "        plt.ylabel(\"freq strength in signal\")                \n",
    "        plt.xlabel(\"frequency\")\n",
    "        plt.show()"
   ]
  },
  {
   "cell_type": "code",
   "execution_count": null,
   "metadata": {},
   "outputs": [],
   "source": [
    "# SineSignal(5).plot()"
   ]
  },
  {
   "cell_type": "code",
   "execution_count": null,
   "metadata": {},
   "outputs": [],
   "source": [
    "long_timesteps = 100\n",
    "bin_time = np.linspace(0,1,long_timesteps)\n",
    "# again halve total number of points due to fft on real function\n",
    "grid = np.zeros((SineSignal.n_t//2,long_timesteps))\n",
    "print('grid is:',grid.shape)\n",
    "\n",
    "meander_amp = 20\n",
    "meander_decay = 2\n",
    "meander_freq = 2\n",
    "meander = lambda x: meander_amp*np.exp(-x*meander_decay)*np.sin(meander_freq*2*np.pi*x)\n",
    "\n",
    "wandering_freqs = meander(bin_time)+20\n",
    "\n",
    "post_freq = []\n",
    "\n",
    "for i,f in tqdm(enumerate(wandering_freqs)):\n",
    "    thing_f = SineSignal(f)\n",
    "    col = thing_f.freq_prob\n",
    "    grid[:,i] = col\n",
    "    post_freq.append(thing_f.inj_freq[col.argmax()])\n",
    "\n",
    "ngrid = grid/np.max(grid)\n",
    "\n",
    "lngrid = np.log(ngrid)"
   ]
  },
  {
   "cell_type": "code",
   "execution_count": null,
   "metadata": {},
   "outputs": [],
   "source": [
    "plt.figure(figsize=(14,7))\n",
    "plt.plot(bin_time,meander(bin_time)+20,'.')    \n",
    "plt.plot(bin_time,post_freq,'r.')\n",
    "plt.ylabel(\"signal frequency\")\n",
    "plt.xlabel(\"bin time\")\n",
    "plt.savefig('meander.pdf',bbox_inches='tight')\n",
    "plt.clf()\n",
    "\n",
    "# plt.figure(figsize=(70,35))\n",
    "plt.figure(figsize=(7,14))\n",
    "plt.imshow(ngrid, cmap='viridis')\n",
    "plt.gca().xaxis.tick_top()\n",
    "plt.colorbar()\n",
    "plt.ylabel('signal frequency bins')\n",
    "plt.xlabel('long time bins')\n",
    "plt.savefig('wandering.pdf',bbox_inches='tight')\n",
    "plt.clf()\n",
    "\n",
    "plt.figure(figsize=(7,14))\n",
    "plt.imshow(lngrid, cmap='viridis')\n",
    "plt.gca().xaxis.tick_top()\n",
    "plt.colorbar()\n",
    "plt.ylabel('signal frequency bins')\n",
    "plt.xlabel('long time bins')\n",
    "plt.savefig('lnwandering.pdf',bbox_inches='tight')\n",
    "plt.clf()"
   ]
  },
  {
   "cell_type": "code",
   "execution_count": null,
   "metadata": {},
   "outputs": [],
   "source": [
    "# score_tmp = np.zeros(np.shape(lngrid))\n",
    "# score_tmp[:,0] = lngrid[:,0]\n",
    "score_tmp  = np.copy(lngrid)\n",
    "pathfinder = np.full(np.shape(lngrid), 500)\n",
    "pathfinder[:,0] = 501"
   ]
  },
  {
   "cell_type": "code",
   "execution_count": null,
   "metadata": {},
   "outputs": [],
   "source": [
    "scanning_range = 10\n",
    "\n",
    "for j in tqdm(range(1,long_timesteps)): #range(100)\n",
    "    for i in range(len(score_tmp[:,j])): #range(500)\n",
    "        k_a = max(0, i-scanning_range) \n",
    "        k_b = min(len(score_tmp[:,j-1])-1, i+scanning_range)\n",
    "        #print(k_a,k_b)\n",
    "        window = score_tmp[:,j-1][k_a:k_b+1]\n",
    "        window_score = np.max(window)\n",
    "        window_ref   = k_a+np.argmax(window)\n",
    "\n",
    "        # [i][j] same as [:,j][i] same as [i,j]\n",
    "        score_tmp[i][j] += window_score\n",
    "        pathfinder[i][j] = window_ref \n",
    "\n"
   ]
  },
  {
   "cell_type": "code",
   "execution_count": null,
   "metadata": {},
   "outputs": [],
   "source": [
    "# (score_tmp-lngrid)[:,1]"
   ]
  },
  {
   "cell_type": "code",
   "execution_count": null,
   "metadata": {},
   "outputs": [],
   "source": [
    "best_score  = np.max(score_tmp[:,long_timesteps-1])\n",
    "best_end = np.argmax(score_tmp[:,long_timesteps-1])\n",
    "best_path_back = np.full(long_timesteps,502)\n",
    "best_path_back[long_timesteps-1] = best_end\n",
    "\n",
    "path_grid = np.zeros(np.shape(ngrid))\n",
    "tmp_path = pathfinder[best_end][long_timesteps-1]\n",
    "\n",
    "for j in tqdm(reversed(range(0,long_timesteps-1))):\n",
    "    path_grid[tmp_path][j] = 1\n",
    "    best_path_back[j] = tmp_path    \n",
    "    tmp_path = pathfinder[tmp_path][j]\n",
    "\n",
    "# 501 is the pathfinder flag for reaching the first, 0-index column\n",
    "assert tmp_path == 501\n",
    "\n",
    "plt.figure(figsize=(7,14))\n",
    "plt.imshow(path_grid, cmap='viridis')\n",
    "plt.gca().xaxis.tick_top()\n",
    "plt.colorbar()\n",
    "plt.ylabel('signal frequency bins')\n",
    "plt.xlabel('long time bins')\n",
    "plt.savefig('viterbi_path.pdf',bbox_inches='tight')\n",
    "plt.clf()"
   ]
  },
  {
   "cell_type": "code",
   "execution_count": null,
   "metadata": {},
   "outputs": [],
   "source": []
  },
  {
   "cell_type": "code",
   "execution_count": null,
   "metadata": {},
   "outputs": [],
   "source": []
  },
  {
   "cell_type": "code",
   "execution_count": null,
   "metadata": {},
   "outputs": [],
   "source": [
    "# scanning_range = 10\n",
    "\n",
    "# for i in tqdm(range(len(score_tmp[:,1]))): #range(500)\n",
    "#     k_a = max(0, i-scanning_range) \n",
    "#     k_b = min(len(score_tmp[:,0])-1, i+scanning_range)\n",
    "#     #print(k_a,k_b)\n",
    "#     back_score = np.max(score_tmp[:,0][k_a:k_b+1])\n",
    "#     from_where = np.argmax(score_tmp[:,0][k_a:k_b+1])\n",
    "    \n",
    "#     # [i][1] same as [:,1][i]\n",
    "#     score_tmp[i][1] += back_score\n",
    "#     pathfinder[i][1] = from_where "
   ]
  },
  {
   "cell_type": "code",
   "execution_count": null,
   "metadata": {},
   "outputs": [],
   "source": [
    "# n_t = int(1e3)\n",
    "# # ultimately, freq_prob will be half this size\n",
    "# t = np.linspace(0,2*np.pi,n_t)\n",
    "# dt = t[1]-t[0]\n",
    "# raw_freq = 20\n",
    "\n",
    "# raw_signal = np.sin(raw_freq*2*np.pi*t)\n",
    "\n",
    "# noise_scale = 0.2\n",
    "# noise = np.random.normal(0,noise_scale,raw_signal.shape)\n",
    "\n",
    "# injected_signal = raw_signal + noise\n",
    "# # plt.plot(t,injected_signal)\n",
    "# # plt.show()\n",
    "\n",
    "# yf = np.fft.fft(injected_signal)\n",
    "# nrm_abs_yf = 2/n_t*np.abs(yf)\n",
    "# inj_freq = np.fft.fftfreq(len(yf),dt)\n",
    "# # np.fft.fftfreq outputs 0 to +inf then -inf to 0, so :N//2 gets +ve side; wild!\n",
    "# plt.plot(inj_freq[:n_t//2],nrm_abs_yf[:n_t//2])\n",
    "# freq_prob = nrm_abs_yf[:n_t//2]\n",
    "\n",
    "# plt.show()"
   ]
  },
  {
   "cell_type": "code",
   "execution_count": null,
   "metadata": {},
   "outputs": [],
   "source": [
    "# https://stackoverflow.com/questions/25735153/plotting-a-fast-fourier-transform-in-python\n",
    "# N = 600\n",
    "# # t = np.arange(N)/N*2*np.pi\n",
    "# # t = np.arange(0,2*np.pi,T)\n",
    "# t = np.linspace(0,2*np.pi,N)\n",
    "# T = t[1]-t[0]\n",
    "\n",
    "# y = np.sin(50*2*np.pi*t) + 0.5*np.sin(80*2*np.pi*t)\n",
    "# # plt.plot(t,y)\n",
    "# # plt.show()\n",
    "\n",
    "# # nrm_abs_yf = 2/n_t*np.abs(yf)\n",
    "# # inj_freq = np.fft.fftfreq(len(yf),dt)\n",
    "# # plt.plot(inj_freq,nrm_abs_yf)\n",
    "\n",
    "# yf = np.fft.fft(y)\n",
    "# xf = np.linspace(0, 1/(2*T), N//2)\n",
    "# plt.plot(xf, 2/N * np.abs(yf[:N//2]))\n",
    "# plt.show()"
   ]
  },
  {
   "cell_type": "code",
   "execution_count": null,
   "metadata": {},
   "outputs": [],
   "source": []
  }
 ],
 "metadata": {
  "kernelspec": {
   "display_name": "Python 3",
   "language": "python",
   "name": "python3"
  },
  "language_info": {
   "codemirror_mode": {
    "name": "ipython",
    "version": 3
   },
   "file_extension": ".py",
   "mimetype": "text/x-python",
   "name": "python",
   "nbconvert_exporter": "python",
   "pygments_lexer": "ipython3",
   "version": "3.6.8"
  }
 },
 "nbformat": 4,
 "nbformat_minor": 2
}

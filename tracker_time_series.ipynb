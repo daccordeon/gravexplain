{
 "cells": [
  {
   "cell_type": "code",
   "execution_count": null,
   "metadata": {},
   "outputs": [],
   "source": [
    "#!/usr/bin/env python3\n",
    "\"\"\"tracker_time_series.ipynb\n",
    "James Gardner 2019\n",
    "ANU / Melbourne Uni\n",
    "\n",
    "loads and plots tracked path,\n",
    "as produced by Tracker\n",
    "\"\"\"\n",
    "\n",
    "# import pandas as pd\n",
    "import numpy as np\n",
    "# from tqdm import tqdm_notebook as tqdm\n",
    "import matplotlib.pyplot as plt"
   ]
  },
  {
   "cell_type": "code",
   "execution_count": null,
   "metadata": {},
   "outputs": [],
   "source": [
    "# load in tracker_test.csv\n",
    "# df = pd.read_csv('tracker_test.csv')\n",
    "data = np.genfromtxt('tracker_test.csv', delimiter=',', skip_header=True)\n",
    "time = data[:,0]\n",
    "\n",
    "signal = data[:,1]\n",
    "\n",
    "endtime = time[-1]\n",
    "stepcount = len(time)\n",
    "\n",
    "# approximate time as uniformly spaced frames\n",
    "# t = np.arange(0,endtime,timesteps_mean)\n",
    "t = np.linspace(0,endtime,stepcount)\n",
    "# dt is also timesteps_mean\n",
    "dt = t[1]-t[0]"
   ]
  },
  {
   "cell_type": "code",
   "execution_count": null,
   "metadata": {},
   "outputs": [],
   "source": [
    "yf = np.fft.fft(signal)\n",
    "# normalised-absolute value of FT'd signal\n",
    "nrm_abs_yf = 2/stepcount*np.abs(yf)\n",
    "freq_scale = np.fft.fftfreq(len(yf),dt)\n",
    "# np.fft.fftfreq outputs 0 to +inf then -inf to 0, so :N//2 gets +ve side; wild!\n",
    "freq_prob = nrm_abs_yf[:stepcount//2]"
   ]
  },
  {
   "cell_type": "code",
   "execution_count": null,
   "metadata": {},
   "outputs": [],
   "source": [
    "fig, (ax0,ax1) = plt.subplots(2,figsize=(14,14))\n",
    "ax0.plot(t,signal)\n",
    "ax1.plot(freq_scale[:stepcount//2],freq_prob)\n",
    "ax0.set(title='tracked signal',ylabel='horizonal position, x / cm',xlabel='time, t / s')\n",
    "ax1.set(title='discrete FFT',ylabel='freq strength in signal',xlabel='frequency, f / Hz')\n",
    "plt.savefig('tracker_signal.pdf',bbox_inches='tight')\n",
    "plt.clf()"
   ]
  },
  {
   "cell_type": "code",
   "execution_count": null,
   "metadata": {},
   "outputs": [],
   "source": []
  },
  {
   "cell_type": "code",
   "execution_count": null,
   "metadata": {},
   "outputs": [],
   "source": [
    "# timesteps = []\n",
    "# for i in range(len(time)-1):\n",
    "#     timesteps.append(time[i+1]-time[i])\n",
    "# timesteps = np.array(timesteps)\n",
    "# timesteps_mean = timesteps.mean()\n",
    "# print(timesteps.mean(),timesteps.std())"
   ]
  },
  {
   "cell_type": "code",
   "execution_count": null,
   "metadata": {},
   "outputs": [],
   "source": []
  }
 ],
 "metadata": {
  "kernelspec": {
   "display_name": "Python 3",
   "language": "python",
   "name": "python3"
  },
  "language_info": {
   "codemirror_mode": {
    "name": "ipython",
    "version": 3
   },
   "file_extension": ".py",
   "mimetype": "text/x-python",
   "name": "python",
   "nbconvert_exporter": "python",
   "pygments_lexer": "ipython3",
   "version": "3.6.8"
  }
 },
 "nbformat": 4,
 "nbformat_minor": 2
}
